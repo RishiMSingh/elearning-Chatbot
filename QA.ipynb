{
 "cells": [
  {
   "cell_type": "code",
   "execution_count": 1,
   "id": "5ae08ac4",
   "metadata": {},
   "outputs": [],
   "source": [
    "import pandas as pd \n",
    "import numpy as np "
   ]
  },
  {
   "cell_type": "code",
   "execution_count": 2,
   "id": "5f64a536",
   "metadata": {},
   "outputs": [],
   "source": [
    "df = pd.read_csv('train.tsv',sep='\\t')"
   ]
  },
  {
   "cell_type": "code",
   "execution_count": 3,
   "id": "892c9f85",
   "metadata": {},
   "outputs": [
    {
     "data": {
      "text/html": [
       "<div>\n",
       "<style scoped>\n",
       "    .dataframe tbody tr th:only-of-type {\n",
       "        vertical-align: middle;\n",
       "    }\n",
       "\n",
       "    .dataframe tbody tr th {\n",
       "        vertical-align: top;\n",
       "    }\n",
       "\n",
       "    .dataframe thead th {\n",
       "        text-align: right;\n",
       "    }\n",
       "</style>\n",
       "<table border=\"1\" class=\"dataframe\">\n",
       "  <thead>\n",
       "    <tr style=\"text-align: right;\">\n",
       "      <th></th>\n",
       "      <th>ID</th>\n",
       "      <th>Question Stem</th>\n",
       "      <th>Choices</th>\n",
       "      <th>Complete Question</th>\n",
       "      <th>Answer Key</th>\n",
       "    </tr>\n",
       "  </thead>\n",
       "  <tbody>\n",
       "    <tr>\n",
       "      <th>0</th>\n",
       "      <td>7-980</td>\n",
       "      <td>The sun is responsible for</td>\n",
       "      <td>(A) puppies learning new tricks (B) children g...</td>\n",
       "      <td>The sun is responsible for (A) puppies learnin...</td>\n",
       "      <td>D</td>\n",
       "    </tr>\n",
       "    <tr>\n",
       "      <th>1</th>\n",
       "      <td>7-584</td>\n",
       "      <td>When standing miles away from Mount Rushmore</td>\n",
       "      <td>(A) the mountains seem very close (B) the moun...</td>\n",
       "      <td>When standing miles away from Mount Rushmore (...</td>\n",
       "      <td>D</td>\n",
       "    </tr>\n",
       "    <tr>\n",
       "      <th>2</th>\n",
       "      <td>7-870</td>\n",
       "      <td>When food is reduced in the stomach</td>\n",
       "      <td>(A) the mind needs time to digest (B) take a s...</td>\n",
       "      <td>When food is reduced in the stomach (A) the mi...</td>\n",
       "      <td>C</td>\n",
       "    </tr>\n",
       "    <tr>\n",
       "      <th>3</th>\n",
       "      <td>7-321</td>\n",
       "      <td>Stars are</td>\n",
       "      <td>(A) warm lights that float (B) made out of nit...</td>\n",
       "      <td>Stars are (A) warm lights that float (B) made ...</td>\n",
       "      <td>C</td>\n",
       "    </tr>\n",
       "    <tr>\n",
       "      <th>4</th>\n",
       "      <td>9-732</td>\n",
       "      <td>You can make a telescope with a</td>\n",
       "      <td>(A) straw (B) Glass (C) Candle (D) mailing tube</td>\n",
       "      <td>You can make a telescope with a (A) straw (B) ...</td>\n",
       "      <td>D</td>\n",
       "    </tr>\n",
       "    <tr>\n",
       "      <th>...</th>\n",
       "      <td>...</td>\n",
       "      <td>...</td>\n",
       "      <td>...</td>\n",
       "      <td>...</td>\n",
       "      <td>...</td>\n",
       "    </tr>\n",
       "    <tr>\n",
       "      <th>4952</th>\n",
       "      <td>14-1506</td>\n",
       "      <td>A bulldozer alters the area of</td>\n",
       "      <td>(A) skyscrapers (B) the stock market (C) air (...</td>\n",
       "      <td>A bulldozer alters the area of (A) skyscrapers...</td>\n",
       "      <td>A</td>\n",
       "    </tr>\n",
       "    <tr>\n",
       "      <th>4953</th>\n",
       "      <td>14-1509</td>\n",
       "      <td>An organism that can survive without the help ...</td>\n",
       "      <td>(A) Brewer's yeast (B) air (C) sand (D) sugar</td>\n",
       "      <td>An organism that can survive without the help ...</td>\n",
       "      <td>A</td>\n",
       "    </tr>\n",
       "    <tr>\n",
       "      <th>4954</th>\n",
       "      <td>14-1510</td>\n",
       "      <td>The nimbleness of this animal is a key adaptio...</td>\n",
       "      <td>(A) the praying mantis (B) the antelope (C) th...</td>\n",
       "      <td>The nimbleness of this animal is a key adaptio...</td>\n",
       "      <td>B</td>\n",
       "    </tr>\n",
       "    <tr>\n",
       "      <th>4955</th>\n",
       "      <td>14-1511</td>\n",
       "      <td>Birds will have different kinds of beaks depen...</td>\n",
       "      <td>(A) organisms they hunt (B) computer (C) groce...</td>\n",
       "      <td>Birds will have different kinds of beaks depen...</td>\n",
       "      <td>A</td>\n",
       "    </tr>\n",
       "    <tr>\n",
       "      <th>4956</th>\n",
       "      <td>14-1512</td>\n",
       "      <td>Harriet wants to know the area of a rectangula...</td>\n",
       "      <td>(A) a ruler (B) a compass (C) a calculator (D)...</td>\n",
       "      <td>Harriet wants to know the area of a rectangula...</td>\n",
       "      <td>A</td>\n",
       "    </tr>\n",
       "  </tbody>\n",
       "</table>\n",
       "<p>4957 rows × 5 columns</p>\n",
       "</div>"
      ],
      "text/plain": [
       "           ID                                      Question Stem  \\\n",
       "0       7-980                         The sun is responsible for   \n",
       "1       7-584       When standing miles away from Mount Rushmore   \n",
       "2       7-870                When food is reduced in the stomach   \n",
       "3       7-321                                          Stars are   \n",
       "4       9-732                    You can make a telescope with a   \n",
       "...       ...                                                ...   \n",
       "4952  14-1506                     A bulldozer alters the area of   \n",
       "4953  14-1509  An organism that can survive without the help ...   \n",
       "4954  14-1510  The nimbleness of this animal is a key adaptio...   \n",
       "4955  14-1511  Birds will have different kinds of beaks depen...   \n",
       "4956  14-1512  Harriet wants to know the area of a rectangula...   \n",
       "\n",
       "                                                Choices  \\\n",
       "0     (A) puppies learning new tricks (B) children g...   \n",
       "1     (A) the mountains seem very close (B) the moun...   \n",
       "2     (A) the mind needs time to digest (B) take a s...   \n",
       "3     (A) warm lights that float (B) made out of nit...   \n",
       "4       (A) straw (B) Glass (C) Candle (D) mailing tube   \n",
       "...                                                 ...   \n",
       "4952  (A) skyscrapers (B) the stock market (C) air (...   \n",
       "4953      (A) Brewer's yeast (B) air (C) sand (D) sugar   \n",
       "4954  (A) the praying mantis (B) the antelope (C) th...   \n",
       "4955  (A) organisms they hunt (B) computer (C) groce...   \n",
       "4956  (A) a ruler (B) a compass (C) a calculator (D)...   \n",
       "\n",
       "                                      Complete Question Answer Key  \n",
       "0     The sun is responsible for (A) puppies learnin...          D  \n",
       "1     When standing miles away from Mount Rushmore (...          D  \n",
       "2     When food is reduced in the stomach (A) the mi...          C  \n",
       "3     Stars are (A) warm lights that float (B) made ...          C  \n",
       "4     You can make a telescope with a (A) straw (B) ...          D  \n",
       "...                                                 ...        ...  \n",
       "4952  A bulldozer alters the area of (A) skyscrapers...          A  \n",
       "4953  An organism that can survive without the help ...          A  \n",
       "4954  The nimbleness of this animal is a key adaptio...          B  \n",
       "4955  Birds will have different kinds of beaks depen...          A  \n",
       "4956  Harriet wants to know the area of a rectangula...          A  \n",
       "\n",
       "[4957 rows x 5 columns]"
      ]
     },
     "execution_count": 3,
     "metadata": {},
     "output_type": "execute_result"
    }
   ],
   "source": [
    "df"
   ]
  },
  {
   "cell_type": "code",
   "execution_count": 56,
   "id": "7697e5cf",
   "metadata": {},
   "outputs": [],
   "source": [
    "incorrect_qs = [3685, 2621, 1590, 3459, 1373]"
   ]
  },
  {
   "cell_type": "code",
   "execution_count": 64,
   "id": "95816240",
   "metadata": {},
   "outputs": [],
   "source": [
    "x = df['Question Stem'][3685]"
   ]
  },
  {
   "cell_type": "code",
   "execution_count": 65,
   "id": "dc4da521",
   "metadata": {},
   "outputs": [
    {
     "data": {
      "text/plain": [
       "'Which can go in the recycled bin'"
      ]
     },
     "execution_count": 65,
     "metadata": {},
     "output_type": "execute_result"
    }
   ],
   "source": [
    "x"
   ]
  },
  {
   "cell_type": "code",
   "execution_count": 66,
   "id": "69a7fbec",
   "metadata": {},
   "outputs": [],
   "source": [
    "from keybert import KeyBERT\n",
    "from textblob import TextBlob"
   ]
  },
  {
   "cell_type": "code",
   "execution_count": 68,
   "id": "923bf0d1",
   "metadata": {},
   "outputs": [],
   "source": [
    "model = KeyBERT(model=\"distilbert-base-nli-mean-tokens\")"
   ]
  },
  {
   "cell_type": "code",
   "execution_count": 69,
   "id": "9c5c3ace",
   "metadata": {},
   "outputs": [
    {
     "data": {
      "text/plain": [
       "[WordList([]),\n",
       " WordList(['fast drive']),\n",
       " WordList(['taste sweet']),\n",
       " WordList(['science fact', 'product decreases']),\n",
       " WordList(['cans'])]"
      ]
     },
     "execution_count": 69,
     "metadata": {},
     "output_type": "execute_result"
    }
   ],
   "source": [
    "question_topics"
   ]
  },
  {
   "cell_type": "code",
   "execution_count": null,
   "id": "4ea366af",
   "metadata": {},
   "outputs": [],
   "source": []
  },
  {
   "cell_type": "code",
   "execution_count": 98,
   "id": "0c1d9369",
   "metadata": {},
   "outputs": [],
   "source": [
    "import wikipediaapi\n",
    "\n",
    "\n",
    "def reccomendation(incorrect_qs1):\n",
    "    wikipedia_links = []\n",
    "    for i in incorrect_qs1:\n",
    "        keyword = model.extract_keywords(df['Question Stem'][i],top_n=-1)\n",
    "        word = keyword[0]\n",
    "        question_topics.append(word[0])\n",
    "        wiki_wiki = wikipediaapi.Wikipedia('en')\n",
    "        w_1 = wiki_wiki.page(word[0])\n",
    "        wikipedia_links.append(w_1.fullurl)\n",
    "        \n",
    "    return wikipedia_links\n",
    "        #wikipedia_links.append(w_1.fullurl)\n",
    "    \n",
    "    \n",
    "    "
   ]
  },
  {
   "cell_type": "code",
   "execution_count": 99,
   "id": "a7c48201",
   "metadata": {},
   "outputs": [
    {
     "data": {
      "text/plain": [
       "['https://en.wikipedia.org/wiki/Recycling',\n",
       " 'https://en.wikipedia.org/wiki/Drive',\n",
       " 'https://en.wikipedia.org/wiki/Taste',\n",
       " 'https://en.wikipedia.org/wiki/Decrease_(knitting)',\n",
       " 'https://en.wikipedia.org/wiki/Cans']"
      ]
     },
     "execution_count": 99,
     "metadata": {},
     "output_type": "execute_result"
    }
   ],
   "source": [
    "reccomendation(incorrect_qs)"
   ]
  },
  {
   "cell_type": "code",
   "execution_count": 91,
   "id": "3c79ddac",
   "metadata": {},
   "outputs": [
    {
     "data": {
      "text/plain": [
       "['recycled', 'drive', 'taste', 'decrease', 'cans']"
      ]
     },
     "execution_count": 91,
     "metadata": {},
     "output_type": "execute_result"
    }
   ],
   "source": [
    "question_topics"
   ]
  },
  {
   "cell_type": "code",
   "execution_count": 88,
   "id": "4ea8f10e",
   "metadata": {},
   "outputs": [
    {
     "name": "stdout",
     "output_type": "stream",
     "text": [
      "https://en.wikipedia.org/wiki/Recycling\n"
     ]
    }
   ],
   "source": [
    "#Wikipedia look up\n",
    "import wikipediaapi\n",
    "word = question_topics[0]\n",
    "wiki_wiki = wikipediaapi.Wikipedia('en')\n",
    "word = wiki_wiki.page(word)\n",
    "word_sum = word.summary[0:1000]\n",
    "print(word.fullurl)"
   ]
  },
  {
   "cell_type": "code",
   "execution_count": 73,
   "id": "dabea1fb",
   "metadata": {},
   "outputs": [
    {
     "data": {
      "text/plain": [
       "'Recycling is the process of converting waste materials into new materials and objects. The recovery of energy from waste materials is often included in this concept. The recyclability of a material depends on its ability to reacquire the properties it had in its original state. It is an alternative to \"conventional\" waste disposal that can save material and help lower greenhouse gas emissions. It can also prevent the waste of potentially useful materials and reduce the consumption of fresh raw materials, reducing energy use, air pollution (from incineration) and water pollution (from landfilling).\\nRecycling is a key component of modern waste reduction and is the third component of the \"Reduce, Reuse, and Recycle\" waste hierarchy. It promotes environmental sustainability by removing raw material input and redirecting waste output in the economic system. There are some ISO standards related to recycling, such as ISO 15270:2008 for plastics waste and ISO 14001:2015 for environmental manag'"
      ]
     },
     "execution_count": 73,
     "metadata": {},
     "output_type": "execute_result"
    }
   ],
   "source": []
  },
  {
   "cell_type": "code",
   "execution_count": null,
   "id": "9d344912",
   "metadata": {},
   "outputs": [],
   "source": []
  }
 ],
 "metadata": {
  "kernelspec": {
   "display_name": "Python 3",
   "language": "python",
   "name": "python3"
  },
  "language_info": {
   "codemirror_mode": {
    "name": "ipython",
    "version": 3
   },
   "file_extension": ".py",
   "mimetype": "text/x-python",
   "name": "python",
   "nbconvert_exporter": "python",
   "pygments_lexer": "ipython3",
   "version": "3.8.8"
  }
 },
 "nbformat": 4,
 "nbformat_minor": 5
}
